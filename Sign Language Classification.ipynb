{
 "cells": [
  {
   "cell_type": "code",
   "execution_count": 1,
   "id": "da466497",
   "metadata": {},
   "outputs": [],
   "source": [
    "import matplotlib.pyplot as plt\n",
    "import seaborn as sns\n",
    "from keras.models import Sequential\n",
    "from keras.layers import Dense, Conv2D , MaxPool2D , Flatten , Dropout , BatchNormalization\n",
    "from keras.preprocessing.image import ImageDataGenerator\n",
    "from sklearn.model_selection import train_test_split\n",
    "from sklearn.metrics import classification_report,confusion_matrix\n",
    "import pandas as pd"
   ]
  },
  {
   "cell_type": "code",
   "execution_count": 2,
   "id": "31bc3552",
   "metadata": {},
   "outputs": [],
   "source": [
    "train_df = pd.read_csv(\"sign_mnist_train.csv\")\n",
    "test_df = pd.read_csv(\"sign_mnist_test.csv\")"
   ]
  },
  {
   "cell_type": "code",
   "execution_count": 3,
   "id": "0f64248e",
   "metadata": {},
   "outputs": [],
   "source": [
    "y_train = train_df['label']\n",
    "y_test = test_df['label']\n",
    "del train_df['label']\n",
    "del test_df['label']"
   ]
  },
  {
   "cell_type": "code",
   "execution_count": 4,
   "id": "da1df414",
   "metadata": {},
   "outputs": [],
   "source": [
    "from sklearn.preprocessing import LabelBinarizer\n",
    "label_binarizer = LabelBinarizer()\n",
    "y_train = label_binarizer.fit_transform(y_train)\n",
    "y_test = label_binarizer.fit_transform(y_test)"
   ]
  },
  {
   "cell_type": "code",
   "execution_count": 5,
   "id": "f8394c31",
   "metadata": {},
   "outputs": [],
   "source": [
    "x_train = train_df.values\n",
    "x_test = test_df.values"
   ]
  },
  {
   "cell_type": "code",
   "execution_count": 6,
   "id": "3f08d857",
   "metadata": {},
   "outputs": [],
   "source": [
    "x_train = x_train / 255\n",
    "x_test = x_test / 255"
   ]
  },
  {
   "cell_type": "code",
   "execution_count": 7,
   "id": "f5d379f3",
   "metadata": {},
   "outputs": [],
   "source": [
    "x_train = x_train.reshape(-1,28,28,1)\n",
    "x_test = x_test.reshape(-1,28,28,1)"
   ]
  },
  {
   "cell_type": "code",
   "execution_count": 8,
   "id": "15fea665",
   "metadata": {},
   "outputs": [],
   "source": [
    "datagen = ImageDataGenerator(\n",
    "        featurewise_center=False,\n",
    "        samplewise_center=False, \n",
    "        featurewise_std_normalization=False,\n",
    "        samplewise_std_normalization=False,\n",
    "        zca_whitening=False,\n",
    "        rotation_range=10,\n",
    "        zoom_range = 0.1, \n",
    "        width_shift_range=0.1,\n",
    "        height_shift_range=0.1,\n",
    "        horizontal_flip=False,\n",
    "        vertical_flip=False)\n",
    "\n",
    "datagen.fit(x_train)"
   ]
  },
  {
   "cell_type": "code",
   "execution_count": 9,
   "id": "ad3a8b10",
   "metadata": {},
   "outputs": [],
   "source": [
    "model = Sequential()\n",
    "model.add(Conv2D(75 , (3,3) , strides = 1 , padding = 'same' , activation = 'relu' , input_shape = (28,28,1)))\n",
    "model.add(BatchNormalization())\n",
    "model.add(MaxPool2D((2,2) , strides = 2 , padding = 'same'))\n",
    "model.add(Conv2D(50 , (3,3) , strides = 1 , padding = 'same' , activation = 'relu'))\n",
    "model.add(Dropout(0.2))\n",
    "model.add(BatchNormalization())\n",
    "model.add(MaxPool2D((2,2) , strides = 2 , padding = 'same'))\n",
    "model.add(Conv2D(25 , (3,3) , strides = 1 , padding = 'same' , activation = 'relu'))\n",
    "model.add(BatchNormalization())\n",
    "model.add(MaxPool2D((2,2) , strides = 2 , padding = 'same'))\n",
    "model.add(Flatten())\n",
    "model.add(Dense(units = 512 , activation = 'relu'))\n",
    "model.add(Dropout(0.3))\n",
    "model.add(Dense(units = 24 , activation = 'softmax'))"
   ]
  },
  {
   "cell_type": "code",
   "execution_count": 10,
   "id": "2b89d33d",
   "metadata": {},
   "outputs": [
    {
     "name": "stdout",
     "output_type": "stream",
     "text": [
      "Model: \"sequential\"\n",
      "_________________________________________________________________\n",
      " Layer (type)                Output Shape              Param #   \n",
      "=================================================================\n",
      " conv2d (Conv2D)             (None, 28, 28, 75)        750       \n",
      "                                                                 \n",
      " batch_normalization (BatchN  (None, 28, 28, 75)       300       \n",
      " ormalization)                                                   \n",
      "                                                                 \n",
      " max_pooling2d (MaxPooling2D  (None, 14, 14, 75)       0         \n",
      " )                                                               \n",
      "                                                                 \n",
      " conv2d_1 (Conv2D)           (None, 14, 14, 50)        33800     \n",
      "                                                                 \n",
      " dropout (Dropout)           (None, 14, 14, 50)        0         \n",
      "                                                                 \n",
      " batch_normalization_1 (Batc  (None, 14, 14, 50)       200       \n",
      " hNormalization)                                                 \n",
      "                                                                 \n",
      " max_pooling2d_1 (MaxPooling  (None, 7, 7, 50)         0         \n",
      " 2D)                                                             \n",
      "                                                                 \n",
      " conv2d_2 (Conv2D)           (None, 7, 7, 25)          11275     \n",
      "                                                                 \n",
      " batch_normalization_2 (Batc  (None, 7, 7, 25)         100       \n",
      " hNormalization)                                                 \n",
      "                                                                 \n",
      " max_pooling2d_2 (MaxPooling  (None, 4, 4, 25)         0         \n",
      " 2D)                                                             \n",
      "                                                                 \n",
      " flatten (Flatten)           (None, 400)               0         \n",
      "                                                                 \n",
      " dense (Dense)               (None, 512)               205312    \n",
      "                                                                 \n",
      " dropout_1 (Dropout)         (None, 512)               0         \n",
      "                                                                 \n",
      " dense_1 (Dense)             (None, 24)                12312     \n",
      "                                                                 \n",
      "=================================================================\n",
      "Total params: 264,049\n",
      "Trainable params: 263,749\n",
      "Non-trainable params: 300\n",
      "_________________________________________________________________\n",
      "Epoch 1/20\n",
      "215/215 [==============================] - 145s 645ms/step - loss: 1.0261 - accuracy: 0.6801 - val_loss: 3.7709 - val_accuracy: 0.1559\n",
      "Epoch 2/20\n",
      "215/215 [==============================] - 137s 637ms/step - loss: 0.2043 - accuracy: 0.9326 - val_loss: 1.2642 - val_accuracy: 0.5555\n",
      "Epoch 3/20\n",
      "215/215 [==============================] - 141s 655ms/step - loss: 0.0994 - accuracy: 0.9675 - val_loss: 0.1278 - val_accuracy: 0.9529\n",
      "Epoch 4/20\n",
      "215/215 [==============================] - 144s 669ms/step - loss: 0.0633 - accuracy: 0.9799 - val_loss: 0.0397 - val_accuracy: 0.9886\n",
      "Epoch 5/20\n",
      "215/215 [==============================] - 130s 606ms/step - loss: 0.0434 - accuracy: 0.9856 - val_loss: 0.2443 - val_accuracy: 0.9246\n",
      "Epoch 6/20\n",
      "215/215 [==============================] - 130s 605ms/step - loss: 0.0402 - accuracy: 0.9867 - val_loss: 0.0619 - val_accuracy: 0.9817\n",
      "Epoch 7/20\n",
      "215/215 [==============================] - 138s 642ms/step - loss: 0.0275 - accuracy: 0.9913 - val_loss: 0.0398 - val_accuracy: 0.9873\n",
      "Epoch 8/20\n",
      "215/215 [==============================] - 142s 662ms/step - loss: 0.0250 - accuracy: 0.9918 - val_loss: 0.0589 - val_accuracy: 0.9757\n",
      "Epoch 9/20\n",
      "215/215 [==============================] - 141s 656ms/step - loss: 0.0268 - accuracy: 0.9909 - val_loss: 0.0428 - val_accuracy: 0.9794\n",
      "Epoch 10/20\n",
      "215/215 [==============================] - 156s 724ms/step - loss: 0.0211 - accuracy: 0.9930 - val_loss: 0.0792 - val_accuracy: 0.9704\n",
      "Epoch 11/20\n",
      "215/215 [==============================] - 137s 638ms/step - loss: 0.0214 - accuracy: 0.9930 - val_loss: 0.0163 - val_accuracy: 0.9968\n",
      "Epoch 12/20\n",
      "215/215 [==============================] - 133s 620ms/step - loss: 0.0211 - accuracy: 0.9926 - val_loss: 0.1199 - val_accuracy: 0.9651\n",
      "Epoch 13/20\n",
      "215/215 [==============================] - 145s 675ms/step - loss: 0.0197 - accuracy: 0.9932 - val_loss: 0.0332 - val_accuracy: 0.9855\n",
      "Epoch 14/20\n",
      "215/215 [==============================] - 122s 569ms/step - loss: 0.0170 - accuracy: 0.9944 - val_loss: 0.0154 - val_accuracy: 0.9947\n",
      "Epoch 15/20\n",
      "215/215 [==============================] - 117s 546ms/step - loss: 0.0157 - accuracy: 0.9944 - val_loss: 0.0421 - val_accuracy: 0.9809\n",
      "Epoch 16/20\n",
      "215/215 [==============================] - 122s 566ms/step - loss: 0.0166 - accuracy: 0.9948 - val_loss: 0.0485 - val_accuracy: 0.9870\n",
      "Epoch 17/20\n",
      "215/215 [==============================] - 115s 536ms/step - loss: 0.0129 - accuracy: 0.9961 - val_loss: 0.2401 - val_accuracy: 0.9240\n",
      "Epoch 18/20\n",
      "215/215 [==============================] - 115s 532ms/step - loss: 0.0181 - accuracy: 0.9943 - val_loss: 0.0527 - val_accuracy: 0.9802\n",
      "Epoch 19/20\n",
      "215/215 [==============================] - 127s 592ms/step - loss: 0.0172 - accuracy: 0.9939 - val_loss: 0.1283 - val_accuracy: 0.9597\n",
      "Epoch 20/20\n",
      "215/215 [==============================] - 137s 639ms/step - loss: 0.0136 - accuracy: 0.9957 - val_loss: 0.0436 - val_accuracy: 0.9838\n"
     ]
    }
   ],
   "source": [
    "model.compile(optimizer = 'adam' , loss = 'categorical_crossentropy' , metrics = ['accuracy'])\n",
    "model.summary()\n",
    "\n",
    "history = model.fit(datagen.flow(x_train,y_train, batch_size = 128) ,epochs = 20 , validation_data = (x_test, y_test))\n",
    "\n",
    "model.save('smnist.h5')"
   ]
  },
  {
   "cell_type": "code",
   "execution_count": 104,
   "id": "b1c60e67",
   "metadata": {},
   "outputs": [
    {
     "data": {
      "image/png": "[encoded data removed]",
      "text/plain": [
       "<Figure size 432x288 with 1 Axes>"
      ]
     },
     "metadata": {
      "needs_background": "light"
     },
     "output_type": "display_data"
    }
   ],
   "source": [
    "fig1 = plt.gcf()\n",
    "plt.plot(history.history['accuracy'])\n",
    "plt.plot(history.history['val_accuracy'])\n",
    "plt.grid()\n",
    "plt.title('Model Accuracy')\n",
    "plt.ylabel('Accuracy')\n",
    "plt.xlabel('Epochs')\n",
    "plt.legend(['train', 'validation'])\n",
    "plt.show()"
   ]
  },
  {
   "cell_type": "code",
   "execution_count": 105,
   "id": "52cb8dd5",
   "metadata": {},
   "outputs": [
    {
     "data": {
      "image/png": "[encoded data removed]",
      "text/plain": [
       "<Figure size 432x288 with 1 Axes>"
      ]
     },
     "metadata": {
      "needs_background": "light"
     },
     "output_type": "display_data"
    }
   ],
   "source": [
    "fig1 = plt.gcf()\n",
    "plt.plot(history.history['loss'])\n",
    "plt.plot(history.history['val_loss'])\n",
    "plt.grid()\n",
    "plt.title('Model Loss')\n",
    "plt.ylabel('Loss')\n",
    "plt.xlabel('Epochs')\n",
    "plt.legend(['train', 'validation'])\n",
    "plt.show()"
   ]
  },
  {
   "cell_type": "code",
   "execution_count": 85,
   "id": "99961130",
   "metadata": {},
   "outputs": [
    {
     "name": "stdout",
     "output_type": "stream",
     "text": [
      "Requirement already satisfied: pillow in c:\\users\\this pc\\anaconda3\\lib\\site-packages (8.4.0)Note: you may need to restart the kernel to use updated packages.\n",
      "\n",
      "Requirement already satisfied: opencv-python in c:\\users\\this pc\\anaconda3\\lib\\site-packages (4.5.5.64)\n",
      "Requirement already satisfied: numpy>=1.17.3 in c:\\users\\this pc\\anaconda3\\lib\\site-packages (from opencv-python) (1.20.3)\n"
     ]
    }
   ],
   "source": [
    "pip install pillow opencv-python"
   ]
  },
  {
   "cell_type": "code",
   "execution_count": 106,
   "id": "60916863",
   "metadata": {},
   "outputs": [
    {
     "name": "stdout",
     "output_type": "stream",
     "text": [
      "1/1 [==============================] - 0s 335ms/step\n"
     ]
    },
    {
     "data": {
      "image/png": "[encoded data removed]",
      "text/plain": [
       "<Figure size 432x288 with 1 Axes>"
      ]
     },
     "metadata": {
      "needs_background": "light"
     },
     "output_type": "display_data"
    }
   ],
   "source": [
    "import tensorflow as tf\n",
    "from tensorflow.keras.preprocessing import image\n",
    "import numpy as np\n",
    "import matplotlib.pyplot as plt\n",
    "\n",
    "# Create a dictionary to map each of the indexes to the corresponding number or letter\n",
    "char_map = {\n",
    "    0: \"A\", 1: \"B\", 2: \"C\", 3: \"D\", 4: \"E\", 5: \"F\", 6: \"G\", 7: \"H\", 8: \"I\",\n",
    "    9: \"K\", 10: \"L\", 11: \"M\", 12: \"N\", 13: \"O\", 14: \"P\", 15: \"Q\", 16: \"R\", 17: \"S\", 18: \"T\",\n",
    "    19: \"U\", 20: \"V\", 21: \"W\", 22: \"X\", 23: \"Y\"\n",
    "}\n",
    "\n",
    "\n",
    "# Load and preprocess the image\n",
    "img_path = r'C:\\Users\\This PC\\Downloads\\handsign.png'\n",
    "img = image.load_img(img_path, target_size=(28, 28), color_mode='grayscale')\n",
    "x = image.img_to_array(img) / 255.0\n",
    "x = np.expand_dims(x, axis=0)\n",
    "\n",
    "# Predict the image class\n",
    "classes = model.predict(x)\n",
    "label = np.argmax(classes)\n",
    "pred_class = char_map[label]\n",
    "\n",
    "plt.imshow(img, cmap='gray')\n",
    "plt.axis('off')\n",
    "plt.title(f\"Predicted Class: {pred_class}\")\n",
    "plt.show()"
   ]
  },
  {
   "cell_type": "code",
   "execution_count": 107,
   "id": "47cc3897",
   "metadata": {},
   "outputs": [
    {
     "name": "stdout",
     "output_type": "stream",
     "text": [
      "99.57020282745361\n"
     ]
    }
   ],
   "source": [
    "#Accuracy and Validation Accuracy\n",
    "print(history.history['accuracy'][-1]*100)"
   ]
  },
  {
   "cell_type": "code",
   "execution_count": 108,
   "id": "b92cb388",
   "metadata": {},
   "outputs": [
    {
     "name": "stdout",
     "output_type": "stream",
     "text": [
      "98.38259816169739\n"
     ]
    }
   ],
   "source": [
    "print(history.history['val_accuracy'][-1]*100)"
   ]
  },
  {
   "cell_type": "code",
   "execution_count": 109,
   "id": "813ad228",
   "metadata": {},
   "outputs": [
    {
     "name": "stdout",
     "output_type": "stream",
     "text": [
      "1.3564336113631725\n"
     ]
    }
   ],
   "source": [
    "#Loss and Validation Loss\n",
    "print(history.history['loss'][-1]*100)"
   ]
  },
  {
   "cell_type": "code",
   "execution_count": 110,
   "id": "28c55128",
   "metadata": {},
   "outputs": [
    {
     "name": "stdout",
     "output_type": "stream",
     "text": [
      "4.355292022228241\n"
     ]
    }
   ],
   "source": [
    "print(history.history['val_loss'][-1]*100)"
   ]
  },
  {
   "cell_type": "code",
   "execution_count": null,
   "id": "92023a9a",
   "metadata": {},
   "outputs": [],
   "source": []
  }
 ],
 "metadata": {
  "kernelspec": {
   "display_name": "Python 3 (ipykernel)",
   "language": "python",
   "name": "python3"
  },
  "language_info": {
   "codemirror_mode": {
    "name": "ipython",
    "version": 3
   },
   "file_extension": ".py",
   "mimetype": "text/x-python",
   "name": "python",
   "nbconvert_exporter": "python",
   "pygments_lexer": "ipython3",
   "version": "3.9.7"
  }
 },
 "nbformat": 4,
 "nbformat_minor": 5
}
